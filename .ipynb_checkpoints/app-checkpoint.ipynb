{
 "cells": [
  {
   "cell_type": "code",
   "execution_count": 1,
   "metadata": {},
   "outputs": [
    {
     "name": "stdout",
     "output_type": "stream",
     "text": [
      "Data ready to go\n"
     ]
    }
   ],
   "source": [
    "# get all of the necessary data and format it\n",
    "# this must always be run\n",
    "\n",
    "import os\n",
    "import data_parser as dp\n",
    "import regressor\n",
    "\n",
    "data = dp.get_csv(os.path.join('.', 'data.csv'))\n",
    "converted_data = dp.convert_data(data)\n",
    "\n",
    "players, gk = regressor.separate_by_gk(converted_data)\n",
    "forwards, midfielders, defenders = regressor.separate_players_by_3(players)\n",
    "\n",
    "print('Data ready to go')"
   ]
  },
  {
   "cell_type": "code",
   "execution_count": 15,
   "metadata": {},
   "outputs": [
    {
     "name": "stdout",
     "output_type": "stream",
     "text": [
      "GK GPR ready to go\n"
     ]
    }
   ],
   "source": [
    "# get the gpr trained on all goalies\n",
    "\n",
    "X, y = regressor.extract_features(gk, 'gk')\n",
    "gk_gpr = regressor.get_gpr('dot', X, y)\n",
    "\n",
    "print('GK GPR ready to go')"
   ]
  },
  {
   "cell_type": "code",
   "execution_count": 16,
   "metadata": {},
   "outputs": [
    {
     "name": "stdout",
     "output_type": "stream",
     "text": [
      "Players GPR ready to go\n"
     ]
    }
   ],
   "source": [
    "# get the gpr trained on all players but goalies\n",
    "\n",
    "X, y = regressor.extract_features(players, 'players')\n",
    "players_gpr = regressor.get_gpr('dot', X, y)\n",
    "\n",
    "print('Players GPR ready to go')"
   ]
  },
  {
   "cell_type": "code",
   "execution_count": 17,
   "metadata": {},
   "outputs": [
    {
     "name": "stdout",
     "output_type": "stream",
     "text": [
      "Forwards GPR ready to go\n"
     ]
    }
   ],
   "source": [
    "# get the gpr trained on forwards\n",
    "\n",
    "X, y = regressor.extract_features(forwards, 'forwards')\n",
    "forwards_gpr = regressor.get_gpr('dot', X, y)\n",
    "\n",
    "print('Forwards GPR ready to go')"
   ]
  },
  {
   "cell_type": "code",
   "execution_count": 18,
   "metadata": {},
   "outputs": [
    {
     "name": "stdout",
     "output_type": "stream",
     "text": [
      "Midfielders GPR ready to go\n"
     ]
    }
   ],
   "source": [
    "# get the gpr trained on midfielders\n",
    "\n",
    "X, y = regressor.extract_features(midfielders, 'midfielders')\n",
    "midfielders_gpr = regressor.get_gpr('dot', X, y)\n",
    "\n",
    "print('Midfielders GPR ready to go')"
   ]
  },
  {
   "cell_type": "code",
   "execution_count": 19,
   "metadata": {},
   "outputs": [
    {
     "name": "stdout",
     "output_type": "stream",
     "text": [
      "Defenders GPR ready to go\n"
     ]
    }
   ],
   "source": [
    "# get the gpr trained on defenders\n",
    "\n",
    "X, y = regressor.extract_features(defenders, 'defenders')\n",
    "defenders_gpr = regressor.get_gpr('dot', X, y)\n",
    "\n",
    "print('Defenders GPR ready to go')"
   ]
  },
  {
   "cell_type": "code",
   "execution_count": 7,
   "metadata": {},
   "outputs": [
    {
     "name": "stdout",
     "output_type": "stream",
     "text": [
      "Mean absolute error train: 0.573946, Mean absolute error test: 0.578536\n",
      "Median abolust error train: 0.467021, Median absolute error test: 0.488578\n"
     ]
    }
   ],
   "source": [
    "# run the regression on goalies only\n",
    "# uses a 10-fold cross validation\n",
    "\n",
    "X, y = regressor.extract_features(gk, 'gk')\n",
    "\n",
    "mean_train, mean_test, median_train, median_test = regressor.cross_validate(\n",
    "    10, 'dot', X, y)\n",
    "\n",
    "print('Mean absolute error train: %f, Mean absolute error test: %f' %\n",
    "      (mean_train, mean_test))\n",
    "print('Median abolust error train: %f, Median absolute error test: %f' %\n",
    "      (median_train, median_test))"
   ]
  },
  {
   "cell_type": "code",
   "execution_count": 8,
   "metadata": {},
   "outputs": [
    {
     "name": "stdout",
     "output_type": "stream",
     "text": [
      "Mean absolute error train: 2.302960, Mean absolute error test: 2.712677\n",
      "Median abolust error train: 1.844553, Median absolute error test: 1.723297\n"
     ]
    }
   ],
   "source": [
    "# run the regression on all players but goalies\n",
    "# uses a 10-fold cross validation\n",
    "\n",
    "X, y = regressor.extract_features(players, 'players')\n",
    "\n",
    "mean_train, mean_test, median_train, median_test = regressor.cross_validate(\n",
    "    10, 'dot', X, y)\n",
    "\n",
    "print('Mean absolute error train: %f, Mean absolute error test: %f' %\n",
    "      (mean_train, mean_test))\n",
    "print('Median abolust error train: %f, Median absolute error test: %f' %\n",
    "      (median_train, median_test))"
   ]
  },
  {
   "cell_type": "code",
   "execution_count": 2,
   "metadata": {},
   "outputs": [
    {
     "name": "stdout",
     "output_type": "stream",
     "text": [
      "Mean absolute error train: 1.191527, Mean absolute error test: 1.253750\n",
      "Median abolust error train: 0.945402, Median absolute error test: 0.965308\n"
     ]
    }
   ],
   "source": [
    "# run the regression on forwards\n",
    "# uses a 10-fold cross validation\n",
    "\n",
    "X, y = regressor.extract_features(forwards, 'forwards')\n",
    "\n",
    "mean_train, mean_test, median_train, median_test = regressor.cross_validate(\n",
    "    10, 'dot', X, y)\n",
    "\n",
    "print('Mean absolute error train: %f, Mean absolute error test: %f' %\n",
    "      (mean_train, mean_test))\n",
    "print('Median abolust error train: %f, Median absolute error test: %f' %\n",
    "      (median_train, median_test))"
   ]
  },
  {
   "cell_type": "code",
   "execution_count": 3,
   "metadata": {},
   "outputs": [
    {
     "name": "stdout",
     "output_type": "stream",
     "text": [
      "Mean absolute error train: 1.425637, Mean absolute error test: 1.505537\n",
      "Median abolust error train: 1.177292, Median absolute error test: 1.206011\n"
     ]
    }
   ],
   "source": [
    "# run the regression on midfielders\n",
    "# uses a 10-fold cross validation\n",
    "\n",
    "X, y = regressor.extract_features(midfielders, 'midfielders')\n",
    "\n",
    "mean_train, mean_test, median_train, median_test = regressor.cross_validate(\n",
    "    10, 'dot', X, y)\n",
    "\n",
    "print('Mean absolute error train: %f, Mean absolute error test: %f' %\n",
    "      (mean_train, mean_test))\n",
    "print('Median abolust error train: %f, Median absolute error test: %f' %\n",
    "      (median_train, median_test))"
   ]
  },
  {
   "cell_type": "code",
   "execution_count": 2,
   "metadata": {},
   "outputs": [
    {
     "name": "stdout",
     "output_type": "stream",
     "text": [
      "Mean absolute error train: 1.002823, Mean absolute error test: 1.044630\n",
      "Median abolust error train: 0.796616, Median absolute error test: 0.825494\n"
     ]
    }
   ],
   "source": [
    "# run the regression on defenders\n",
    "# uses a 10-fold cross validation\n",
    "\n",
    "X, y = regressor.extract_features(defenders, 'defenders')\n",
    "\n",
    "mean_train, mean_test, median_train, median_test = regressor.cross_validate(\n",
    "    10, 'dot', X, y)\n",
    "\n",
    "print('Mean absolute error train: %f, Mean absolute error test: %f' %\n",
    "      (mean_train, mean_test))\n",
    "print('Median abolust error train: %f, Median absolute error test: %f' %\n",
    "      (median_train, median_test))"
   ]
  },
  {
   "cell_type": "code",
   "execution_count": 13,
   "metadata": {
    "scrolled": true
   },
   "outputs": [
    {
     "name": "stdout",
     "output_type": "stream",
     "text": [
      "17 players with e >= 2\n",
      "\n",
      "E. Audero: pred = 75.662216, true = 73\n",
      "M. Turner: pred = 71.425728, true = 69\n",
      "Ailton Cardenhas: pred = 71.192669, true = 69\n",
      "A. Maksimenko: pred = 69.459393, true = 67\n",
      "A. Tarbell: pred = 66.079664, true = 64\n",
      "L. McCormick: pred = 61.374575, true = 64\n",
      "Sander Asevedo: pred = 60.769749, true = 63\n",
      "Otaño: pred = 62.698637, true = 60\n",
      "H. Nakabayashi: pred = 62.157743, true = 60\n",
      "S. Laiton: pred = 57.804281, true = 60\n",
      "M. Bleve: pred = 62.124379, true = 60\n",
      "C. Topaloglu: pred = 61.182284, true = 59\n",
      "B. Williams: pred = 55.869417, true = 58\n",
      "E. Kastrati: pred = 59.329267, true = 57\n",
      "J. Truque: pred = 59.591108, true = 57\n",
      "Y. Nishibe: pred = 57.226547, true = 55\n",
      "Shi Xiaodong: pred = 50.988054, true = 53\n"
     ]
    }
   ],
   "source": [
    "# see which goalies the gp performs poorly on\n",
    "\n",
    "X, y = regressor.extract_features(gk, 'gk')\n",
    "e = 2\n",
    "\n",
    "bad_predictions = regressor.examine_bad_predictions(gk_gpr, X, y, e)\n",
    "print('%d players with e >= %d' % (len(bad_predictions), e))\n",
    "print()\n",
    "\n",
    "for row, y_values in bad_predictions.items():\n",
    "    print('%s: pred = %f, true = %d' % (gk[row][dp.Data.NAME], y_values[0], y_values[1]))"
   ]
  },
  {
   "cell_type": "code",
   "execution_count": 15,
   "metadata": {},
   "outputs": [
    {
     "name": "stdout",
     "output_type": "stream",
     "text": [
      "61 players with e >= 10\n",
      "\n",
      "G. Chiellini: pred = 78.744175, true = 89\n",
      "E. Mangala: pred = 65.549030, true = 76\n",
      "X. Arreaga: pred = 55.787804, true = 66\n",
      "J. McNulty: pred = 30.614725, true = 62\n",
      "J. Barrera: pred = 30.614725, true = 62\n",
      "J. Stead: pred = 30.614725, true = 62\n",
      "A. Semprini: pred = 30.614725, true = 62\n",
      "R. Bingham: pred = 30.614725, true = 62\n",
      "K. Dankowski: pred = 30.614725, true = 62\n",
      "I. Colman: pred = 30.614725, true = 62\n",
      "M. Feeney: pred = 30.614725, true = 62\n",
      "R. Minor: pred = 30.614725, true = 62\n",
      "Klauss: pred = 30.614725, true = 62\n",
      "I. Sissoko: pred = 30.614725, true = 62\n",
      "F. Hart: pred = 30.614725, true = 62\n",
      "L. McCullough: pred = 30.614725, true = 62\n",
      "Li Yunqiu: pred = 30.614725, true = 62\n",
      "F. Garcia: pred = 30.614725, true = 62\n",
      "R. Haemhouts: pred = 30.614725, true = 62\n",
      "E. Binaku: pred = 30.614725, true = 62\n",
      "G. Miller: pred = 30.614725, true = 62\n",
      "A. Aidonis: pred = 30.614725, true = 62\n",
      "L. Sowah: pred = 30.614725, true = 62\n",
      "R. Deacon: pred = 30.614725, true = 62\n",
      "Jang Hyun Soo: pred = 30.614725, true = 62\n",
      "A. Al Malki: pred = 30.614725, true = 62\n",
      "E. Guerrero: pred = 30.614725, true = 62\n",
      "Hernáiz: pred = 30.614725, true = 62\n",
      "H. Al Mansour: pred = 30.614725, true = 62\n",
      "H. Paul: pred = 30.614725, true = 62\n",
      "S. Bauer: pred = 30.614725, true = 62\n",
      "M. Chergui: pred = 30.614725, true = 62\n",
      "D. Gardner: pred = 30.614725, true = 62\n",
      "L. Bengtsson: pred = 30.614725, true = 62\n",
      "F. Jaramillo: pred = 30.614725, true = 62\n",
      "L. Garguła: pred = 30.614725, true = 62\n",
      "S. Rivera: pred = 30.614725, true = 62\n",
      "Vinicius: pred = 30.614725, true = 62\n",
      "F. Sepúlveda: pred = 30.614725, true = 62\n",
      "L. Spence: pred = 30.614725, true = 62\n",
      "B. Lepistu: pred = 30.614725, true = 62\n",
      "A. Abruscia: pred = 30.614725, true = 62\n",
      "E. González: pred = 30.614725, true = 62\n",
      "M. Al Amri: pred = 30.614725, true = 62\n",
      "J. Rebolledo: pred = 30.614725, true = 62\n",
      "C. Mamengi: pred = 30.614725, true = 62\n",
      "P. Mazzocchi: pred = 30.614725, true = 62\n",
      "Y. Ammour: pred = 30.614725, true = 62\n",
      "Jwa Joon Hyeop: pred = 30.614725, true = 62\n",
      "O. Marrufo: pred = 30.614725, true = 62\n",
      "Han Pengfei: pred = 30.614725, true = 62\n",
      "L. Kryger: pred = 71.193966, true = 59\n",
      "Wang Liang: pred = 68.012463, true = 55\n",
      "Y. Maouche: pred = 63.046135, true = 53\n",
      "J. Keaney: pred = 65.048645, true = 53\n",
      "Kim Jong Jin: pred = 62.680275, true = 51\n",
      "G. Barry: pred = 63.027283, true = 50\n",
      "M. Foy: pred = 59.099367, true = 49\n",
      "Y. Uchimura: pred = 59.002884, true = 48\n",
      "D. Holland: pred = 57.163837, true = 47\n",
      "G. Nugent: pred = 56.903034, true = 46\n"
     ]
    }
   ],
   "source": [
    "# see which non-goalie players the gp performs poorly on\n",
    "\n",
    "X, y = regressor.extract_features(players, 'players')\n",
    "e = 10\n",
    "\n",
    "bad_predictions = regressor.examine_bad_predictions(players_gpr, X, y, e)\n",
    "print('%d players with e >= %d' % (len(bad_predictions), e))\n",
    "print()\n",
    "\n",
    "for row, y_values in bad_predictions.items():\n",
    "    print('%s: pred = %f, true = %d' % (players[row][dp.Data.NAME], y_values[0], y_values[1]))"
   ]
  },
  {
   "cell_type": "code",
   "execution_count": 9,
   "metadata": {},
   "outputs": [
    {
     "name": "stdout",
     "output_type": "stream",
     "text": [
      "32 players with e >= 5\n",
      "\n",
      "Isco: pred = 81.779951, true = 88\n",
      "M. Ginter: pred = 72.278749, true = 80\n",
      "Jonny: pred = 70.591965, true = 79\n",
      "Pablo Maffeo: pred = 72.565506, true = 78\n",
      "R. Aguilar: pred = 71.847528, true = 77\n",
      "Barragán: pred = 70.907609, true = 76\n",
      "G. Schennikov: pred = 68.635983, true = 75\n",
      "J. Brenet: pred = 66.424204, true = 74\n",
      "A. Bamba: pred = 65.507436, true = 72\n",
      "C. Rizzuto: pred = 63.157678, true = 69\n",
      "B. Idowu: pred = 62.327500, true = 69\n",
      "Rômulão Selva: pred = 75.999337, true = 69\n",
      "C. Alhadhur: pred = 62.720599, true = 68\n",
      "B. Pittón: pred = 62.437217, true = 68\n",
      "R. Tait: pred = 59.307709, true = 67\n",
      "E. Bonifacio: pred = 59.854596, true = 66\n",
      "P. Karlsson Lagemyr: pred = 58.210423, true = 64\n",
      "O. Turton: pred = 57.372581, true = 63\n",
      "S. Ring: pred = 57.282947, true = 63\n",
      "R. Lamie: pred = 55.892760, true = 63\n",
      "A. Granlund: pred = 53.920882, true = 62\n",
      "N. Fofana: pred = 55.705333, true = 62\n",
      "K. Memija: pred = 55.618683, true = 62\n",
      "M. Maphangule: pred = 56.981272, true = 62\n",
      "D. Butler: pred = 55.626745, true = 62\n",
      "G. Williams: pred = 53.585128, true = 62\n",
      "Y. Tanaka: pred = 55.989208, true = 62\n",
      "A. Amade: pred = 51.348501, true = 58\n",
      "Lu Yao: pred = 51.028716, true = 57\n",
      "J. Padilla: pred = 62.157375, true = 57\n",
      "Jeong Chee In: pred = 61.011885, true = 56\n",
      "K. Rowles: pred = 43.688906, true = 56\n"
     ]
    }
   ],
   "source": [
    "# see which forwards the gp performs poorly on\n",
    "\n",
    "X, y = regressor.extract_features(forwards, 'forwards')\n",
    "e = 5\n",
    "\n",
    "bad_predictions = regressor.examine_bad_predictions(forwards_gpr, X, y, e)\n",
    "print('%d players with e >= %d' % (len(bad_predictions), e))\n",
    "print()\n",
    "\n",
    "for row, y_values in bad_predictions.items():\n",
    "    print('%s: pred = %f, true = %d' % (forwards[row][dp.Data.NAME], y_values[0], y_values[1]))"
   ]
  },
  {
   "cell_type": "code",
   "execution_count": 10,
   "metadata": {},
   "outputs": [
    {
     "name": "stdout",
     "output_type": "stream",
     "text": [
      "84 players with e >= 5\n",
      "\n",
      "Casemiro: pred = 80.531073, true = 88\n",
      "P. Aubameyang: pred = 82.379963, true = 88\n",
      "Marquinhos: pred = 76.476596, true = 84\n",
      "Javi Martínez: pred = 75.930724, true = 83\n",
      "D. De Rossi: pred = 77.773905, true = 83\n",
      "Dani García: pred = 76.193591, true = 82\n",
      "L. Fejsa: pred = 74.889277, true = 82\n",
      "S. Ascacíbar: pred = 72.041691, true = 78\n",
      "Oriol Romeu: pred = 71.019176, true = 78\n",
      "T. Strobl: pred = 69.100650, true = 77\n",
      "Markel Bergara: pred = 71.849497, true = 77\n",
      "A. Touré: pred = 70.457541, true = 76\n",
      "M. Fritzler: pred = 69.502773, true = 75\n",
      "S. Ilsanker: pred = 66.664460, true = 75\n",
      "G. Rodríguez: pred = 69.547666, true = 75\n",
      "José Cañas: pred = 69.154922, true = 75\n",
      "Alex Bergantiños: pred = 67.510408, true = 73\n",
      "M. Iturra: pred = 67.492347, true = 73\n",
      "D. Nagbe: pred = 78.001567, true = 73\n",
      "A. Farías: pred = 66.726452, true = 72\n",
      "C. Medjani: pred = 65.816183, true = 72\n",
      "Luismi: pred = 65.368126, true = 72\n",
      "S. Memišević: pred = 60.684262, true = 71\n",
      "Osmar: pred = 64.918017, true = 71\n",
      "Toribio: pred = 63.990479, true = 71\n",
      "Garrido: pred = 63.723168, true = 71\n",
      "M. Hartmann: pred = 64.491066, true = 71\n",
      "Javi Castellano: pred = 65.555300, true = 71\n",
      "A. Esiti: pred = 62.596637, true = 71\n",
      "V. Osimhen: pred = 64.882781, true = 70\n",
      "Lasure: pred = 64.734507, true = 70\n",
      "J. Giraudon: pred = 63.961906, true = 70\n",
      "José Semedo: pred = 64.337864, true = 70\n",
      "D. Łukasik: pred = 63.772968, true = 69\n",
      "Juanjo: pred = 61.240056, true = 69\n",
      "S. Marreh: pred = 60.770872, true = 67\n",
      "J. Nikolaou: pred = 60.039018, true = 67\n",
      "N. Dams: pred = 58.706930, true = 67\n",
      "F. Rodríguez: pred = 60.494168, true = 67\n",
      "Naldo: pred = 61.882111, true = 67\n",
      "Welson Leima: pred = 60.066384, true = 67\n",
      "O. Andrievskyi: pred = 61.490650, true = 67\n",
      "C. Monschein: pred = 61.828733, true = 67\n",
      "J. Radošević: pred = 61.831146, true = 67\n",
      "N. Palacios: pred = 61.022182, true = 67\n",
      "M. Bokadi: pred = 61.906672, true = 67\n",
      "C. Chapman: pred = 60.125541, true = 66\n",
      "Nazario Serpe: pred = 59.589808, true = 66\n",
      "M. Inoha: pred = 57.478732, true = 66\n",
      "D. Barinov: pred = 60.023962, true = 66\n",
      "Manuel Sánchez: pred = 60.072945, true = 66\n",
      "K. Bülow: pred = 59.955405, true = 66\n",
      "Diogo Santos: pred = 60.887885, true = 66\n",
      "M. Doyle: pred = 60.884140, true = 66\n",
      "D. Peitz: pred = 56.261412, true = 66\n",
      "R. Procházka: pred = 59.446530, true = 65\n",
      "Paulito Zanon: pred = 56.396125, true = 65\n",
      "D. Bergqvist: pred = 58.611970, true = 65\n",
      "S. Matuszek: pred = 59.144613, true = 65\n",
      "G. Sepúlveda: pred = 58.058622, true = 65\n",
      "J. Washausen: pred = 58.923698, true = 65\n",
      "F. Silva: pred = 59.004127, true = 65\n",
      "Adrián Rocheira: pred = 56.279690, true = 64\n",
      "Y. Kobayashi: pred = 57.752572, true = 64\n",
      "S. Mai: pred = 43.012328, true = 64\n",
      "S. Puttkammer: pred = 57.592588, true = 63\n",
      "T. Kruse: pred = 53.058575, true = 63\n",
      "N. Pelaitay: pred = 56.535774, true = 62\n",
      "A. Groiß: pred = 56.584121, true = 62\n",
      "C. Thompson: pred = 66.126253, true = 61\n",
      "J. Aros: pred = 54.396944, true = 61\n",
      "N. Fernández: pred = 55.246142, true = 61\n",
      "Yang Jiawei: pred = 54.990281, true = 60\n",
      "A. Tsvetkov: pred = 54.465538, true = 60\n",
      "T. Miyazaki: pred = 64.677326, true = 59\n",
      "Lee Kwang Jin: pred = 61.815525, true = 56\n",
      "Zhu Xiaogang: pred = 50.749031, true = 56\n",
      "H. Ishikawa: pred = 60.920180, true = 55\n",
      "R. Uehara: pred = 60.761403, true = 55\n",
      "I. Angking: pred = 59.467169, true = 54\n",
      "J. King: pred = 59.275465, true = 54\n",
      "Y. Maouche: pred = 58.034474, true = 53\n",
      "B. Zamora: pred = 56.120096, true = 51\n",
      "Kim Jong Jin: pred = 56.364413, true = 51\n"
     ]
    }
   ],
   "source": [
    "# see which midfielders the gp performs poorly on\n",
    "\n",
    "X, y = regressor.extract_features(midfielders, 'midfielders')\n",
    "e = 5\n",
    "\n",
    "bad_predictions = regressor.examine_bad_predictions(midfielders_gpr, X, y, e)\n",
    "print('%d players with e >= %d' % (len(bad_predictions), e))\n",
    "print()\n",
    "\n",
    "for row, y_values in bad_predictions.items():\n",
    "    print('%s: pred = %f, true = %d' % (midfielders[row][dp.Data.NAME], y_values[0], y_values[1]))"
   ]
  },
  {
   "cell_type": "code",
   "execution_count": 11,
   "metadata": {},
   "outputs": [
    {
     "name": "stdout",
     "output_type": "stream",
     "text": [
      "15 players with e >= 5\n",
      "\n",
      "D. Wass: pred = 75.855487, true = 81\n",
      "D. Laxalt: pred = 69.447902, true = 78\n",
      "Marc Mateu: pred = 53.045279, true = 73\n",
      "A. Saelemaekers: pred = 65.806919, true = 72\n",
      "J. Mansilla: pred = 58.662390, true = 69\n",
      "P. Göbel: pred = 56.747184, true = 67\n",
      "M. Grimes: pred = 58.378798, true = 67\n",
      "Yu Dabao: pred = 49.898468, true = 67\n",
      "K. Naismith: pred = 54.724922, true = 66\n",
      "A. Kruiswijk: pred = 70.820661, true = 65\n",
      "L. Broxham: pred = 68.199936, true = 63\n",
      "H. Miyazawa: pred = 51.714309, true = 63\n",
      "B. Dennehy: pred = 49.254890, true = 59\n",
      "J. Sowerby: pred = 47.879970, true = 55\n",
      "E. Iandolo: pred = 42.391831, true = 55\n"
     ]
    }
   ],
   "source": [
    "# see which defenders the gp performs poorly on\n",
    "\n",
    "X, y = regressor.extract_features(defenders, 'defenders')\n",
    "e = 5\n",
    "\n",
    "bad_predictions = regressor.examine_bad_predictions(defenders_gpr, X, y, e)\n",
    "print('%d players with e >= %d' % (len(bad_predictions), e))\n",
    "print()\n",
    "\n",
    "for row, y_values in bad_predictions.items():\n",
    "    print('%s: pred = %f, true = %d' % (defenders[row][dp.Data.NAME], y_values[0], y_values[1]))"
   ]
  },
  {
   "cell_type": "code",
   "execution_count": 7,
   "metadata": {},
   "outputs": [],
   "source": [
    "# organize the data into a dictionary which takes players' names as keys\n",
    "\n",
    "player_dict = {row[dp.Data.NAME]: row for row in converted_data}"
   ]
  },
  {
   "cell_type": "code",
   "execution_count": 20,
   "metadata": {},
   "outputs": [
    {
     "name": "stdout",
     "output_type": "stream",
     "text": [
      "Prediction: 86.93793362379074, True: 88\n"
     ]
    }
   ],
   "source": [
    "# see a player prediction according to gk_gpr\n",
    "\n",
    "name = 'G. Buffon'\n",
    "if name not in player_dict:\n",
    "    print('%s is not a player in FIFA' % name)\n",
    "else:\n",
    "    player = [player_dict[name]]\n",
    "    X, y = regressor.extract_features(player, 'gk')\n",
    "    pred = gk_gpr.predict(X)\n",
    "    print('Prediction: %f, True: %d' % (pred[0], player[0][dp.Data.OVERALL]))"
   ]
  },
  {
   "cell_type": "code",
   "execution_count": 21,
   "metadata": {},
   "outputs": [
    {
     "name": "stdout",
     "output_type": "stream",
     "text": [
      "Prediction: 84.911376953125, True: 94\n"
     ]
    }
   ],
   "source": [
    "# see a player prediction according to players_gpr\n",
    "\n",
    "name = 'L. Messi'\n",
    "if name not in player_dict:\n",
    "    print('%s is not a player in FIFA' % name)\n",
    "else:\n",
    "    player = [player_dict[name]]\n",
    "    X, y = regressor.extract_features(player, 'players')\n",
    "    pred = players_gpr.predict(X)\n",
    "    print('Prediction: %f, True: %d' % (pred[0], player[0][dp.Data.OVERALL]))"
   ]
  },
  {
   "cell_type": "code",
   "execution_count": 22,
   "metadata": {},
   "outputs": [
    {
     "name": "stdout",
     "output_type": "stream",
     "text": [
      "Prediction: 90.89737272262573, True: 94\n"
     ]
    }
   ],
   "source": [
    "# see a player prediction according to forwards_gpr\n",
    "\n",
    "name = 'L. Messi'\n",
    "if name not in player_dict:\n",
    "    print('%s is not a player in FIFA' % name)\n",
    "else:\n",
    "    player = [player_dict[name]]\n",
    "    X, y = regressor.extract_features(player, 'forwards')\n",
    "    pred = forwards_gpr.predict(X)\n",
    "    print('Prediction: %f, True: %d' % (pred[0], player[0][dp.Data.OVERALL]))"
   ]
  },
  {
   "cell_type": "code",
   "execution_count": 23,
   "metadata": {},
   "outputs": [
    {
     "name": "stdout",
     "output_type": "stream",
     "text": [
      "Prediction: 90.21658325195312, True: 91\n"
     ]
    }
   ],
   "source": [
    "# see a player prediction according to midfielders_gpr\n",
    "\n",
    "name = 'K. De Bruyne'\n",
    "if name not in player_dict:\n",
    "    print('%s is not a player in FIFA' % name)\n",
    "else:\n",
    "    player = [player_dict[name]]\n",
    "    X, y = regressor.extract_features(player, 'midfielders')\n",
    "    pred = midfielders_gpr.predict(X)\n",
    "    print('Prediction: %f, True: %d' % (pred[0], player[0][dp.Data.OVERALL]))"
   ]
  },
  {
   "cell_type": "code",
   "execution_count": null,
   "metadata": {},
   "outputs": [],
   "source": [
    "# see a player prediction according to defenders_gpr\n",
    "\n",
    "name = 'Sergio Ramos'\n",
    "if name not in player_dict:\n",
    "    print('%s is not a player in FIFA' % name)\n",
    "else:\n",
    "    player = [player_dict[name]]\n",
    "    X, y = regressor.extract_features(player, 'defenders')\n",
    "    pred = defenders_gpr.predict(X)\n",
    "    print('Prediction: %f, True: %d' % (pred[0], player[0][dp.Data.OVERALL]))"
   ]
  }
 ],
 "metadata": {
  "kernelspec": {
   "display_name": "Python 3",
   "language": "python",
   "name": "python3"
  },
  "language_info": {
   "codemirror_mode": {
    "name": "ipython",
    "version": 3
   },
   "file_extension": ".py",
   "mimetype": "text/x-python",
   "name": "python",
   "nbconvert_exporter": "python",
   "pygments_lexer": "ipython3",
   "version": "3.6.8"
  }
 },
 "nbformat": 4,
 "nbformat_minor": 2
}
